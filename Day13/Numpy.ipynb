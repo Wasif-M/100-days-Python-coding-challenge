{
 "cells": [
  {
   "cell_type": "code",
   "execution_count": 75,
   "id": "47aac5b6",
   "metadata": {},
   "outputs": [],
   "source": [
    "import numpy as np"
   ]
  },
  {
   "cell_type": "markdown",
   "id": "3acde3d0",
   "metadata": {},
   "source": [
    "## Basics\n"
   ]
  },
  {
   "cell_type": "code",
   "execution_count": 76,
   "id": "49f136f2",
   "metadata": {},
   "outputs": [
    {
     "name": "stdout",
     "output_type": "stream",
     "text": [
      "[12  4  2 34]\n"
     ]
    }
   ],
   "source": [
    "arra_1=np.array([12,4,2,34])\n",
    "print(arra_1)"
   ]
  },
  {
   "cell_type": "code",
   "execution_count": 77,
   "id": "c86356ab",
   "metadata": {},
   "outputs": [
    {
     "name": "stdout",
     "output_type": "stream",
     "text": [
      "[[12.4  12.3   1.33]\n",
      " [ 1.    9.6   3.4 ]]\n"
     ]
    }
   ],
   "source": [
    "arra_2=np.array([[12.4,12.3,1.33],[1,9.6,3.4]])\n",
    "print(arra_2)"
   ]
  },
  {
   "cell_type": "code",
   "execution_count": 78,
   "id": "0688da63",
   "metadata": {},
   "outputs": [
    {
     "data": {
      "text/plain": [
       "1"
      ]
     },
     "execution_count": 78,
     "metadata": {},
     "output_type": "execute_result"
    }
   ],
   "source": [
    "# Get Dimensions\n",
    "arra_1.ndim"
   ]
  },
  {
   "cell_type": "code",
   "execution_count": 79,
   "id": "bfd2807f",
   "metadata": {},
   "outputs": [
    {
     "data": {
      "text/plain": [
       "(2, 3)"
      ]
     },
     "execution_count": 79,
     "metadata": {},
     "output_type": "execute_result"
    }
   ],
   "source": [
    "#shape\n",
    "arra_2.shape"
   ]
  },
  {
   "cell_type": "code",
   "execution_count": 80,
   "id": "c4167e10",
   "metadata": {},
   "outputs": [
    {
     "data": {
      "text/plain": [
       "dtype('int32')"
      ]
     },
     "execution_count": 80,
     "metadata": {},
     "output_type": "execute_result"
    }
   ],
   "source": [
    "#size\n",
    "arra_1.dtype"
   ]
  },
  {
   "cell_type": "markdown",
   "id": "e7d3c942",
   "metadata": {},
   "source": [
    "## Getting Specific elements,rows and columns"
   ]
  },
  {
   "cell_type": "code",
   "execution_count": 81,
   "id": "cc6c7ad6",
   "metadata": {},
   "outputs": [
    {
     "name": "stdout",
     "output_type": "stream",
     "text": [
      "[[12 45 22 56  2 45  8]\n",
      " [19 34 11 44 23  1  0]]\n"
     ]
    }
   ],
   "source": [
    "arra_3=np.array([[12,45,22,56,2,45,8],[19,34,11,44,23,1,0]])\n",
    "print(arra_3)"
   ]
  },
  {
   "cell_type": "code",
   "execution_count": 82,
   "id": "30429125",
   "metadata": {},
   "outputs": [
    {
     "data": {
      "text/plain": [
       "44"
      ]
     },
     "execution_count": 82,
     "metadata": {},
     "output_type": "execute_result"
    }
   ],
   "source": [
    "arra_3[1,3]"
   ]
  },
  {
   "cell_type": "code",
   "execution_count": 83,
   "id": "72281b87",
   "metadata": {},
   "outputs": [
    {
     "data": {
      "text/plain": [
       "array([12, 45, 22, 56,  2, 45,  8])"
      ]
     },
     "execution_count": 83,
     "metadata": {},
     "output_type": "execute_result"
    }
   ],
   "source": [
    "# sepicfic row\n",
    "arra_3[0,:]"
   ]
  },
  {
   "cell_type": "code",
   "execution_count": 84,
   "id": "6cb296c5",
   "metadata": {},
   "outputs": [
    {
     "data": {
      "text/plain": [
       "array([12, 45, 22, 56,  2, 45])"
      ]
     },
     "execution_count": 84,
     "metadata": {},
     "output_type": "execute_result"
    }
   ],
   "source": [
    "arra_3[0,:-1]"
   ]
  },
  {
   "cell_type": "code",
   "execution_count": 85,
   "id": "11c98a96",
   "metadata": {},
   "outputs": [
    {
     "data": {
      "text/plain": [
       "array([19, 34, 11])"
      ]
     },
     "execution_count": 85,
     "metadata": {},
     "output_type": "execute_result"
    }
   ],
   "source": [
    "arra_3[1,:3]"
   ]
  },
  {
   "cell_type": "code",
   "execution_count": 86,
   "id": "57cf6254",
   "metadata": {},
   "outputs": [
    {
     "data": {
      "text/plain": [
       "array([22, 11])"
      ]
     },
     "execution_count": 86,
     "metadata": {},
     "output_type": "execute_result"
    }
   ],
   "source": [
    "#Specific column\n",
    "arra_3[:,2]"
   ]
  },
  {
   "cell_type": "code",
   "execution_count": 87,
   "id": "c987185a",
   "metadata": {},
   "outputs": [
    {
     "data": {
      "text/plain": [
       "array([8, 0])"
      ]
     },
     "execution_count": 87,
     "metadata": {},
     "output_type": "execute_result"
    }
   ],
   "source": [
    "arra_3[:,-1]"
   ]
  },
  {
   "cell_type": "code",
   "execution_count": 88,
   "id": "c735cd93",
   "metadata": {},
   "outputs": [
    {
     "data": {
      "text/plain": [
       "array([11, 44, 23,  1])"
      ]
     },
     "execution_count": 88,
     "metadata": {},
     "output_type": "execute_result"
    }
   ],
   "source": [
    "arra_3[1,2:-1:1]"
   ]
  },
  {
   "cell_type": "code",
   "execution_count": 89,
   "id": "835bb08b",
   "metadata": {},
   "outputs": [
    {
     "name": "stdout",
     "output_type": "stream",
     "text": [
      "[[ 0 45 22 56  2 45  8]\n",
      " [19 34 11 44 23  1  0]]\n",
      "[[ 0 45 22 56  2 45 12]\n",
      " [19 34 11 44 23  1  0]]\n"
     ]
    }
   ],
   "source": [
    "arra_3[0,0]=0\n",
    "print(arra_3)\n",
    "\n",
    "arra_3[0,-1]=12\n",
    "print(arra_3)"
   ]
  },
  {
   "cell_type": "markdown",
   "id": "1f989886",
   "metadata": {},
   "source": [
    "## Different Types OF Arrays"
   ]
  },
  {
   "cell_type": "code",
   "execution_count": 90,
   "id": "cc55ba9b",
   "metadata": {},
   "outputs": [
    {
     "data": {
      "text/plain": [
       "array([[0., 0., 0., 0., 0.],\n",
       "       [0., 0., 0., 0., 0.],\n",
       "       [0., 0., 0., 0., 0.],\n",
       "       [0., 0., 0., 0., 0.],\n",
       "       [0., 0., 0., 0., 0.]])"
      ]
     },
     "execution_count": 90,
     "metadata": {},
     "output_type": "execute_result"
    }
   ],
   "source": [
    "# all zeros matrix\n",
    "np.zeros((5,5))"
   ]
  },
  {
   "cell_type": "code",
   "execution_count": 91,
   "id": "c2f1680a",
   "metadata": {},
   "outputs": [
    {
     "data": {
      "text/plain": [
       "array([[23., 23.],\n",
       "       [23., 23.],\n",
       "       [23., 23.],\n",
       "       [23., 23.]], dtype=float32)"
      ]
     },
     "execution_count": 91,
     "metadata": {},
     "output_type": "execute_result"
    }
   ],
   "source": [
    "# other number\n",
    "np.full((4,2),23,dtype=\"float32\")"
   ]
  },
  {
   "cell_type": "code",
   "execution_count": 92,
   "id": "615160d7",
   "metadata": {},
   "outputs": [
    {
     "data": {
      "text/plain": [
       "array([[0., 0., 0.],\n",
       "       [0., 0., 0.]])"
      ]
     },
     "execution_count": 92,
     "metadata": {},
     "output_type": "execute_result"
    }
   ],
   "source": [
    "np.full_like(arra_2,0)"
   ]
  },
  {
   "cell_type": "code",
   "execution_count": 93,
   "id": "45caf8e5",
   "metadata": {},
   "outputs": [
    {
     "data": {
      "text/plain": [
       "array([[0.79730412, 0.71620755, 0.25335868],\n",
       "       [0.45436011, 0.34254434, 0.50949611]])"
      ]
     },
     "execution_count": 93,
     "metadata": {},
     "output_type": "execute_result"
    }
   ],
   "source": [
    "#random decimal numbers\n",
    "np.random.rand(2,3)"
   ]
  },
  {
   "cell_type": "code",
   "execution_count": 94,
   "id": "f93c697e",
   "metadata": {},
   "outputs": [
    {
     "data": {
      "text/plain": [
       "array([[1, 0, 1],\n",
       "       [2, 0, 1],\n",
       "       [2, 2, 0]])"
      ]
     },
     "execution_count": 94,
     "metadata": {},
     "output_type": "execute_result"
    }
   ],
   "source": [
    "#random int number\n",
    "np.random.randint(3,size=(3,3))"
   ]
  },
  {
   "cell_type": "code",
   "execution_count": 95,
   "id": "08bb36c7",
   "metadata": {},
   "outputs": [
    {
     "data": {
      "text/plain": [
       "array([[1, 0],\n",
       "       [0, 1]])"
      ]
     },
     "execution_count": 95,
     "metadata": {},
     "output_type": "execute_result"
    }
   ],
   "source": [
    "#identity matrix\n",
    "np.identity(2,dtype='int32')"
   ]
  },
  {
   "cell_type": "code",
   "execution_count": 96,
   "id": "24ea3e50",
   "metadata": {},
   "outputs": [
    {
     "name": "stdout",
     "output_type": "stream",
     "text": [
      "[[12  3  3]\n",
      " [12  3  3]\n",
      " [12  3  3]]\n"
     ]
    }
   ],
   "source": [
    "#repeat any array\n",
    "arra_4=np.array([[12,3,3]])\n",
    "r1=np.repeat(arra_4,3,axis=0)\n",
    "print(r1)"
   ]
  },
  {
   "cell_type": "code",
   "execution_count": 97,
   "id": "9ade4f9b",
   "metadata": {},
   "outputs": [
    {
     "name": "stdout",
     "output_type": "stream",
     "text": [
      "[[1. 1. 1. 1. 1.]\n",
      " [1. 1. 1. 1. 1.]\n",
      " [1. 1. 1. 1. 1.]\n",
      " [1. 1. 1. 1. 1.]\n",
      " [1. 1. 1. 1. 1.]]\n",
      "[[0. 0. 0.]\n",
      " [0. 0. 0.]\n",
      " [0. 0. 0.]]\n",
      "[[0. 0. 0.]\n",
      " [0. 9. 0.]\n",
      " [0. 0. 0.]]\n",
      "[[1. 1. 1. 1. 1.]\n",
      " [1. 0. 0. 0. 1.]\n",
      " [1. 0. 9. 0. 1.]\n",
      " [1. 0. 0. 0. 1.]\n",
      " [1. 1. 1. 1. 1.]]\n"
     ]
    }
   ],
   "source": [
    "output=np.ones((5,5))\n",
    "print(output)\n",
    "z=np.zeros((3,3))\n",
    "print(z)\n",
    "z[1,1]=9\n",
    "print(z)\n",
    "output[1:4,1:4]=z\n",
    "print(output)"
   ]
  },
  {
   "cell_type": "code",
   "execution_count": 102,
   "id": "88a1c838",
   "metadata": {},
   "outputs": [
    {
     "name": "stdout",
     "output_type": "stream",
     "text": [
      "[2 3 6]\n",
      "[12  3  6]\n"
     ]
    }
   ],
   "source": [
    "# Be careful when copying array\n",
    "arra_5=np.array([12,3,6])\n",
    "arra_6=arra_5\n",
    "arra_6[0]=2\n",
    "print(arra_5)\n",
    "\n",
    "#copy function\n",
    "arra_5=np.array([12,3,6])\n",
    "arra_6=arra_5.copy()\n",
    "arra_6[0]=2\n",
    "print(arra_5)"
   ]
  },
  {
   "cell_type": "markdown",
   "id": "f2eec303",
   "metadata": {},
   "source": [
    "## Mathematics"
   ]
  },
  {
   "cell_type": "code",
   "execution_count": 103,
   "id": "fe3dcd43",
   "metadata": {},
   "outputs": [
    {
     "name": "stdout",
     "output_type": "stream",
     "text": [
      "[1 2 3 4]\n"
     ]
    }
   ],
   "source": [
    "arra_7=np.array([1,2,3,4])\n",
    "print(arra_7)"
   ]
  },
  {
   "cell_type": "code",
   "execution_count": 106,
   "id": "af58ecb2",
   "metadata": {},
   "outputs": [
    {
     "name": "stdout",
     "output_type": "stream",
     "text": [
      "[ 8 16 24 32]\n",
      "[4 5 6 7]\n",
      "[-1  0  1  2]\n",
      "[0.5 1.  1.5 2. ]\n"
     ]
    }
   ],
   "source": [
    "print(arra_7*8)\n",
    "print(arra_7+3)\n",
    "print(arra_7-2)\n",
    "print(arra_7/2)"
   ]
  },
  {
   "cell_type": "code",
   "execution_count": 107,
   "id": "4d385ccb",
   "metadata": {},
   "outputs": [
    {
     "data": {
      "text/plain": [
       "array([1, 3, 3, 5])"
      ]
     },
     "execution_count": 107,
     "metadata": {},
     "output_type": "execute_result"
    }
   ],
   "source": [
    "arra_8=np.array([0,1,0,1])\n",
    "arra_7+arra_8"
   ]
  },
  {
   "cell_type": "code",
   "execution_count": 108,
   "id": "0f6bb2f2",
   "metadata": {},
   "outputs": [
    {
     "data": {
      "text/plain": [
       "-0.5365729180004349"
      ]
     },
     "execution_count": 108,
     "metadata": {},
     "output_type": "execute_result"
    }
   ],
   "source": [
    "np.sin(12)"
   ]
  },
  {
   "cell_type": "code",
   "execution_count": 109,
   "id": "5a66b7f1",
   "metadata": {},
   "outputs": [
    {
     "data": {
      "text/plain": [
       "1.0"
      ]
     },
     "execution_count": 109,
     "metadata": {},
     "output_type": "execute_result"
    }
   ],
   "source": [
    "np.cos(0)"
   ]
  },
  {
   "cell_type": "markdown",
   "id": "c1838e9a",
   "metadata": {},
   "source": [
    "## Linear Algebra"
   ]
  },
  {
   "cell_type": "code",
   "execution_count": 114,
   "id": "ea917a7a",
   "metadata": {},
   "outputs": [
    {
     "name": "stdout",
     "output_type": "stream",
     "text": [
      "[[1. 1. 1.]\n",
      " [1. 1. 1.]]\n",
      "[[2 2]\n",
      " [2 2]\n",
      " [2 2]]\n"
     ]
    },
    {
     "data": {
      "text/plain": [
       "array([[6., 6.],\n",
       "       [6., 6.]])"
      ]
     },
     "execution_count": 114,
     "metadata": {},
     "output_type": "execute_result"
    }
   ],
   "source": [
    "arra_9=np.ones((2,3))\n",
    "print(arra_9)\n",
    "\n",
    "arra_10=np.full((3,2),2)\n",
    "print(arra_10)\n",
    "\n",
    "#multiply the matrix\n",
    "np.matmul(arra_9,arra_10)"
   ]
  },
  {
   "cell_type": "code",
   "execution_count": 116,
   "id": "f9b7c9f3",
   "metadata": {},
   "outputs": [
    {
     "data": {
      "text/plain": [
       "1.0"
      ]
     },
     "execution_count": 116,
     "metadata": {},
     "output_type": "execute_result"
    }
   ],
   "source": [
    "#Find determinant\n",
    "arra_11=np.identity(3)\n",
    "np.linalg.det(arra_11)"
   ]
  },
  {
   "cell_type": "code",
   "execution_count": 119,
   "id": "febed958",
   "metadata": {},
   "outputs": [
    {
     "data": {
      "text/plain": [
       "(0, 56, 322)"
      ]
     },
     "execution_count": 119,
     "metadata": {},
     "output_type": "execute_result"
    }
   ],
   "source": [
    "arra_12=np.array([[12,45,22,56,2,45,8],[19,34,11,44,23,1,0]])\n",
    "np.min(arra_12),np.max(arra_12),np.sum(arra_12)"
   ]
  },
  {
   "cell_type": "markdown",
   "id": "f2cfdea7",
   "metadata": {},
   "source": [
    "# Reorgnizing the Array"
   ]
  },
  {
   "cell_type": "code",
   "execution_count": 129,
   "id": "ea2351ca",
   "metadata": {},
   "outputs": [
    {
     "name": "stdout",
     "output_type": "stream",
     "text": [
      "[[12 45 22 56  2 45  8]\n",
      " [19 34 11 44 23  1  0]]\n",
      "[[12 45]\n",
      " [22 56]\n",
      " [ 2 45]\n",
      " [ 8 19]\n",
      " [34 11]\n",
      " [44 23]\n",
      " [ 1  0]]\n"
     ]
    }
   ],
   "source": [
    "before=np.array([[12,45,22,56,2,45,8],[19,34,11,44,23,1,0]])\n",
    "print(before)\n",
    "after=before.reshape((7,2))\n",
    "print(after)"
   ]
  },
  {
   "cell_type": "markdown",
   "id": "fd5576ed",
   "metadata": {},
   "source": [
    "## vertically stacking vectors"
   ]
  },
  {
   "cell_type": "code",
   "execution_count": 131,
   "id": "99eb908a",
   "metadata": {},
   "outputs": [
    {
     "data": {
      "text/plain": [
       "array([[1, 2, 3, 4],\n",
       "       [5, 6, 7, 8],\n",
       "       [5, 6, 7, 8],\n",
       "       [1, 2, 3, 4]])"
      ]
     },
     "execution_count": 131,
     "metadata": {},
     "output_type": "execute_result"
    }
   ],
   "source": [
    "v1=np.array([1,2,3,4])\n",
    "v2=np.array([5,6,7,8])\n",
    "\n",
    "np.vstack([v1,v2,v2,v1])"
   ]
  },
  {
   "cell_type": "code",
   "execution_count": 132,
   "id": "e8d71884",
   "metadata": {},
   "outputs": [
    {
     "data": {
      "text/plain": [
       "array([[0., 0., 0., 0., 1., 1., 1., 1.],\n",
       "       [0., 0., 0., 0., 1., 1., 1., 1.]])"
      ]
     },
     "execution_count": 132,
     "metadata": {},
     "output_type": "execute_result"
    }
   ],
   "source": [
    "# Horizontal Stack\n",
    "h1=np.zeros((2,4))\n",
    "h2=np.ones((2,4))\n",
    "\n",
    "np.hstack((h1,h2))\n"
   ]
  },
  {
   "cell_type": "markdown",
   "id": "04c5134b",
   "metadata": {},
   "source": [
    "# Miscellaneous"
   ]
  },
  {
   "cell_type": "code",
   "execution_count": 133,
   "id": "9b299996",
   "metadata": {},
   "outputs": [],
   "source": [
    "# Load Data From File"
   ]
  },
  {
   "cell_type": "code",
   "execution_count": 138,
   "id": "654e855b",
   "metadata": {},
   "outputs": [
    {
     "data": {
      "text/plain": [
       "array([[ 12,   3,   4,  55,   2, 432, 454,  55,  22,   5,  66],\n",
       "       [ 33,   5,  73,  95,   0, 542,   2,  22,  44, 222,  45],\n",
       "       [ 12,  44,  56,  78,  99,  76,  44,  12,  22,  33,   1]])"
      ]
     },
     "execution_count": 138,
     "metadata": {},
     "output_type": "execute_result"
    }
   ],
   "source": [
    "file_data= np.genfromtxt('data.txt',delimiter=\",\")\n",
    "file_data=file_data.astype('int32')\n",
    "file_data"
   ]
  },
  {
   "cell_type": "markdown",
   "id": "63514bdf",
   "metadata": {},
   "source": [
    "# Boolean and Advanced Indexing"
   ]
  },
  {
   "cell_type": "code",
   "execution_count": 139,
   "id": "40b7b2ba",
   "metadata": {},
   "outputs": [
    {
     "data": {
      "text/plain": [
       "array([[False, False, False,  True, False,  True,  True,  True, False,\n",
       "        False,  True],\n",
       "       [False, False,  True,  True, False,  True, False, False,  True,\n",
       "         True,  True],\n",
       "       [False,  True,  True,  True,  True,  True,  True, False, False,\n",
       "        False, False]])"
      ]
     },
     "execution_count": 139,
     "metadata": {},
     "output_type": "execute_result"
    }
   ],
   "source": [
    "file_data >33"
   ]
  },
  {
   "cell_type": "code",
   "execution_count": 140,
   "id": "558afe4d",
   "metadata": {},
   "outputs": [
    {
     "data": {
      "text/plain": [
       "array([ 55, 432, 454,  55,  66,  73,  95, 542,  44, 222,  45,  44,  56,\n",
       "        78,  99,  76,  44])"
      ]
     },
     "execution_count": 140,
     "metadata": {},
     "output_type": "execute_result"
    }
   ],
   "source": [
    "file_data[file_data >33]"
   ]
  },
  {
   "cell_type": "code",
   "execution_count": 144,
   "id": "672a4334",
   "metadata": {},
   "outputs": [
    {
     "data": {
      "text/plain": [
       "array([False,  True,  True,  True,  True,  True,  True,  True,  True,\n",
       "        True,  True])"
      ]
     },
     "execution_count": 144,
     "metadata": {},
     "output_type": "execute_result"
    }
   ],
   "source": [
    "np.any(file_data >33, axis=0)"
   ]
  },
  {
   "cell_type": "code",
   "execution_count": null,
   "id": "a13e9ad5",
   "metadata": {},
   "outputs": [],
   "source": []
  }
 ],
 "metadata": {
  "kernelspec": {
   "display_name": "Python 3 (ipykernel)",
   "language": "python",
   "name": "python3"
  },
  "language_info": {
   "codemirror_mode": {
    "name": "ipython",
    "version": 3
   },
   "file_extension": ".py",
   "mimetype": "text/x-python",
   "name": "python",
   "nbconvert_exporter": "python",
   "pygments_lexer": "ipython3",
   "version": "3.9.12"
  }
 },
 "nbformat": 4,
 "nbformat_minor": 5
}
